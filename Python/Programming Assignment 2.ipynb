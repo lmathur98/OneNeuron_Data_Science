{
 "cells": [
  {
   "cell_type": "markdown",
   "id": "c4d86caa",
   "metadata": {},
   "source": [
    "# Programming Assignment 2"
   ]
  },
  {
   "cell_type": "markdown",
   "id": "cd7c16ba",
   "metadata": {},
   "source": [
    "### 1. Write a Python program to convert kilometers to miles."
   ]
  },
  {
   "cell_type": "code",
   "execution_count": 1,
   "id": "27a076c4",
   "metadata": {},
   "outputs": [
    {
     "name": "stdout",
     "output_type": "stream",
     "text": [
      "Enter kilometeres:43.56\n",
      "Miles: 27.0668772\n"
     ]
    }
   ],
   "source": [
    "km = float(input(\"Enter kilometeres:\"))\n",
    "miles = 0.62137 * km\n",
    "print(\"Miles:\",miles)"
   ]
  },
  {
   "cell_type": "markdown",
   "id": "3e979257",
   "metadata": {},
   "source": [
    "### 2. Write a Python program to convert Celsius to Fahrenheit"
   ]
  },
  {
   "cell_type": "code",
   "execution_count": 2,
   "id": "9d5e290d",
   "metadata": {},
   "outputs": [
    {
     "name": "stdout",
     "output_type": "stream",
     "text": [
      "Enter celsius in degree:38.54\n",
      "Required Fahrenheit:101.37\n"
     ]
    }
   ],
   "source": [
    "cel = float(input(\"Enter celsius in degree:\"))\n",
    "fah = (cel * (9 / 5)) + 32\n",
    "print(\"Required Fahrenheit:%.2f\" %(fah))"
   ]
  },
  {
   "cell_type": "markdown",
   "id": "dab5b2d5",
   "metadata": {},
   "source": [
    "### 3. Write a Python program to display calendar."
   ]
  },
  {
   "cell_type": "code",
   "execution_count": 3,
   "id": "9efc7ace",
   "metadata": {},
   "outputs": [
    {
     "name": "stdout",
     "output_type": "stream",
     "text": [
      "Enter a year:2022\n",
      "                                  2022\n",
      "\n",
      "      January                   February                   March\n",
      "Mo Tu We Th Fr Sa Su      Mo Tu We Th Fr Sa Su      Mo Tu We Th Fr Sa Su\n",
      "                1  2          1  2  3  4  5  6          1  2  3  4  5  6\n",
      " 3  4  5  6  7  8  9       7  8  9 10 11 12 13       7  8  9 10 11 12 13\n",
      "10 11 12 13 14 15 16      14 15 16 17 18 19 20      14 15 16 17 18 19 20\n",
      "17 18 19 20 21 22 23      21 22 23 24 25 26 27      21 22 23 24 25 26 27\n",
      "24 25 26 27 28 29 30      28                        28 29 30 31\n",
      "31\n",
      "\n",
      "       April                      May                       June\n",
      "Mo Tu We Th Fr Sa Su      Mo Tu We Th Fr Sa Su      Mo Tu We Th Fr Sa Su\n",
      "             1  2  3                         1             1  2  3  4  5\n",
      " 4  5  6  7  8  9 10       2  3  4  5  6  7  8       6  7  8  9 10 11 12\n",
      "11 12 13 14 15 16 17       9 10 11 12 13 14 15      13 14 15 16 17 18 19\n",
      "18 19 20 21 22 23 24      16 17 18 19 20 21 22      20 21 22 23 24 25 26\n",
      "25 26 27 28 29 30         23 24 25 26 27 28 29      27 28 29 30\n",
      "                          30 31\n",
      "\n",
      "        July                     August                  September\n",
      "Mo Tu We Th Fr Sa Su      Mo Tu We Th Fr Sa Su      Mo Tu We Th Fr Sa Su\n",
      "             1  2  3       1  2  3  4  5  6  7                1  2  3  4\n",
      " 4  5  6  7  8  9 10       8  9 10 11 12 13 14       5  6  7  8  9 10 11\n",
      "11 12 13 14 15 16 17      15 16 17 18 19 20 21      12 13 14 15 16 17 18\n",
      "18 19 20 21 22 23 24      22 23 24 25 26 27 28      19 20 21 22 23 24 25\n",
      "25 26 27 28 29 30 31      29 30 31                  26 27 28 29 30\n",
      "\n",
      "      October                   November                  December\n",
      "Mo Tu We Th Fr Sa Su      Mo Tu We Th Fr Sa Su      Mo Tu We Th Fr Sa Su\n",
      "                1  2          1  2  3  4  5  6                1  2  3  4\n",
      " 3  4  5  6  7  8  9       7  8  9 10 11 12 13       5  6  7  8  9 10 11\n",
      "10 11 12 13 14 15 16      14 15 16 17 18 19 20      12 13 14 15 16 17 18\n",
      "17 18 19 20 21 22 23      21 22 23 24 25 26 27      19 20 21 22 23 24 25\n",
      "24 25 26 27 28 29 30      28 29 30                  26 27 28 29 30 31\n",
      "31\n",
      "\n"
     ]
    }
   ],
   "source": [
    "# import the calendar module\n",
    "import calendar\n",
    "\n",
    "# taking year as input and then displayed calender \n",
    "year = int(input(\"Enter a year:\"))\n",
    "print(calendar.calendar(year))"
   ]
  },
  {
   "cell_type": "markdown",
   "id": "a7feae9e",
   "metadata": {},
   "source": [
    "### 4. Write a Python program to solve quadratic equation"
   ]
  },
  {
   "cell_type": "code",
   "execution_count": 4,
   "id": "bab83857",
   "metadata": {},
   "outputs": [
    {
     "name": "stdout",
     "output_type": "stream",
     "text": [
      "Enter value of a:3\n",
      "Enter value of b:5\n",
      "Enter value of c:21\n",
      "The solution of given quadratic equation are (-0.8333333333333334-2.5110865288865605j) and (-0.8333333333333334+2.5110865288865605j)\n"
     ]
    }
   ],
   "source": [
    "import cmath\n",
    "\n",
    "# Standard form of Quadratic Equation is: ax^2 + bx + c = 0 \n",
    "# Taking values form user.\n",
    "a = int(input(\"Enter value of a:\"))\n",
    "b = int(input(\"Enter value of b:\"))\n",
    "c = int(input(\"Enter value of c:\"))\n",
    "\n",
    "# Solving equation\n",
    "D = (b ** 2) - (4 * a * c)\n",
    "root1 = (-b - cmath.sqrt(D)) / (2 * a)\n",
    "root2 = (-b + cmath.sqrt(D)) / (2 * a)\n",
    "\n",
    "# Printing the two roots(solutions).\n",
    "print(\"The solution of given quadratic equation are\",root1,\"and\",root2)"
   ]
  },
  {
   "cell_type": "markdown",
   "id": "5af373e1",
   "metadata": {},
   "source": [
    "### 5. Write a Python program to swap two variables without using temp variable"
   ]
  },
  {
   "cell_type": "code",
   "execution_count": 5,
   "id": "c5acaeb1",
   "metadata": {},
   "outputs": [
    {
     "name": "stdout",
     "output_type": "stream",
     "text": [
      "Numbers before Swapping - Num1: 13 and Num2: 4\n",
      "Numbers after Swapping - Num1: 4 and Num2: 13\n"
     ]
    }
   ],
   "source": [
    "num1 = 13\n",
    "num2 = 4\n",
    "print(\"Numbers before Swapping - Num1: {} and Num2: {}\".format(num1,num2))\n",
    "\n",
    "#Swapping without using third variable\n",
    "num1 = num1 * num2\n",
    "num2 = num1 // num2\n",
    "num1 = num1 // num2\n",
    "\n",
    "# we can also use \"num1,num2 = num2,num1\" for swapping\n",
    "\n",
    "print(\"Numbers after Swapping - Num1: {} and Num2: {}\".format(num1,num2))"
   ]
  },
  {
   "cell_type": "code",
   "execution_count": null,
   "id": "76a0f28f",
   "metadata": {},
   "outputs": [],
   "source": []
  }
 ],
 "metadata": {
  "kernelspec": {
   "display_name": "Python 3 (ipykernel)",
   "language": "python",
   "name": "python3"
  },
  "language_info": {
   "codemirror_mode": {
    "name": "ipython",
    "version": 3
   },
   "file_extension": ".py",
   "mimetype": "text/x-python",
   "name": "python",
   "nbconvert_exporter": "python",
   "pygments_lexer": "ipython3",
   "version": "3.9.7"
  }
 },
 "nbformat": 4,
 "nbformat_minor": 5
}
