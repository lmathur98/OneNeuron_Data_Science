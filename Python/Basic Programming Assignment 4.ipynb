{
 "cells": [
  {
   "cell_type": "markdown",
   "id": "eeb853be",
   "metadata": {},
   "source": [
    "# Programming Assignment 4"
   ]
  },
  {
   "cell_type": "markdown",
   "id": "d9b78517",
   "metadata": {},
   "source": [
    "### 1. Write a Python Program to Find the Factorial of a Number?"
   ]
  },
  {
   "cell_type": "code",
   "execution_count": 1,
   "id": "65e7ad72",
   "metadata": {},
   "outputs": [
    {
     "name": "stdout",
     "output_type": "stream",
     "text": [
      "Enter a number:6\n"
     ]
    },
    {
     "data": {
      "text/plain": [
       "720"
      ]
     },
     "execution_count": 1,
     "metadata": {},
     "output_type": "execute_result"
    }
   ],
   "source": [
    "#Defining a recursive function to find factorial\n",
    "def fact(num):\n",
    "    if num <=1:\n",
    "        return 1\n",
    "    else: \n",
    "        return (num * fact(num-1))\n",
    "\n",
    "#Taking input from user\n",
    "num = int(input(\"Enter a number:\"))\n",
    "\n",
    "#Calling the fact function\n",
    "fact(num)\n"
   ]
  },
  {
   "cell_type": "markdown",
   "id": "c790da2b",
   "metadata": {},
   "source": [
    "### 2. Write a Python Program to Display the multiplication Table?"
   ]
  },
  {
   "cell_type": "code",
   "execution_count": 2,
   "id": "b99ad385",
   "metadata": {},
   "outputs": [
    {
     "name": "stdout",
     "output_type": "stream",
     "text": [
      "Enter a number whose multiplication table is to be displayed:6\n",
      "6 * 1 = 6\n",
      "6 * 2 = 12\n",
      "6 * 3 = 18\n",
      "6 * 4 = 24\n",
      "6 * 5 = 30\n",
      "6 * 6 = 36\n",
      "6 * 7 = 42\n",
      "6 * 8 = 48\n",
      "6 * 9 = 54\n",
      "6 * 10 = 60\n"
     ]
    }
   ],
   "source": [
    "#Reading input from user\n",
    "num = int(input(\"Enter a number whose multiplication table is to be displayed:\"))\n",
    "\n",
    "for i in range(1,11):\n",
    "    print(\"{} * {} = {}\".format(num,i,(num*i)))"
   ]
  },
  {
   "cell_type": "markdown",
   "id": "714eebdf",
   "metadata": {},
   "source": [
    "### 3. Write a Python Program to Print the Fibonacci sequence?"
   ]
  },
  {
   "cell_type": "code",
   "execution_count": 11,
   "id": "910bb7c4",
   "metadata": {},
   "outputs": [
    {
     "name": "stdout",
     "output_type": "stream",
     "text": [
      "How many terms you want from Fibonacci Sequence:20\n",
      "Fibonacci Sequence for first 20 terms are:\n",
      "0\n",
      "1\n",
      "1\n",
      "2\n",
      "3\n",
      "5\n",
      "8\n",
      "13\n",
      "21\n",
      "34\n",
      "55\n",
      "89\n",
      "144\n",
      "233\n",
      "377\n",
      "610\n",
      "987\n",
      "1597\n",
      "2584\n",
      "4181\n"
     ]
    }
   ],
   "source": [
    "#Defining a recursive function for fibonacci series\n",
    "def Fibo(num):\n",
    "    term1 = 0\n",
    "    term2 = 1\n",
    "    if num == 0:\n",
    "        print(\"Please reconside the number of terms!!\")\n",
    "    elif num == 1:\n",
    "        return term1\n",
    "    elif num == 2:\n",
    "        print(term1)\n",
    "        print(term2)\n",
    "    else:\n",
    "        print(term1)\n",
    "        print(term2)\n",
    "        for i in range(2,num):\n",
    "            nextterm = term1 + term2\n",
    "            term1 = term2\n",
    "            term2 = nextterm\n",
    "            print(nextterm)\n",
    "\n",
    "#Reading input from user\n",
    "number = int(input(\"How many terms you want from Fibonacci Sequence:\"))\n",
    "\n",
    "#Function Call\n",
    "print(\"Fibonacci Sequence for first {} terms are:\".format(number))\n",
    "Fibo(number)\n"
   ]
  },
  {
   "cell_type": "markdown",
   "id": "99536de2",
   "metadata": {},
   "source": [
    "### 4. Write a Python Program to Check Armstrong Number?"
   ]
  },
  {
   "cell_type": "code",
   "execution_count": 4,
   "id": "80be00b3",
   "metadata": {},
   "outputs": [
    {
     "name": "stdout",
     "output_type": "stream",
     "text": [
      "Enter a number: 153\n",
      "153 is an Armstrong number\n"
     ]
    }
   ],
   "source": [
    "#Taking input from the user\n",
    "num = int(input(\"Enter a number: \"))\n",
    "\n",
    "temp = num\n",
    "sum = 0\n",
    "\n",
    "#Cheking only for 3-digit number to be Armstrong or not  \n",
    "while temp > 0:\n",
    "   rem = temp % 10\n",
    "   sum = sum + (rem ** 3)\n",
    "   temp = temp // 10\n",
    "\n",
    "\n",
    "if num == sum:\n",
    "   print(\"{} is an Armstrong number\".format(num))\n",
    "else:\n",
    "   print(\"{} is not an Armstrong number\".format(num))\n"
   ]
  },
  {
   "cell_type": "markdown",
   "id": "830a828e",
   "metadata": {},
   "source": [
    "### 5. Write a Python Program to Find Armstrong Number in an Interval?"
   ]
  },
  {
   "cell_type": "code",
   "execution_count": 5,
   "id": "24c44036",
   "metadata": {},
   "outputs": [
    {
     "name": "stdout",
     "output_type": "stream",
     "text": [
      "Enter the lower endpoint of interval: 1\n",
      "Enter the upper endpoint of interval: 10000\n",
      "Below given all numbers are Armstrong Number in between 1 and 10000:\n",
      "1\n",
      "2\n",
      "3\n",
      "4\n",
      "5\n",
      "6\n",
      "7\n",
      "8\n",
      "9\n",
      "153\n",
      "370\n",
      "371\n",
      "407\n",
      "1634\n",
      "8208\n",
      "9474\n"
     ]
    }
   ],
   "source": [
    "#Taking Interval from user\n",
    "start = int(input(\"Enter the lower endpoint of interval: \"))\n",
    "end = int(input(\"Enter the upper endpoint of interval: \"))\n",
    "\n",
    "print(\"Below given all numbers are Armstrong Number in between {} and {}:\".format(start,end))\n",
    "\n",
    "#Finding all Armstrong Number in given interval \n",
    "for num in range(start, end + 1):\n",
    "    \n",
    "    temp = num\n",
    "    sum = 0\n",
    "    digit = len(str(num))\n",
    "\n",
    "    # Checking number is Armstrong or not irrespective of their number of digits      \n",
    "    while temp > 0:\n",
    "       rem = temp % 10\n",
    "       sum = sum + (rem ** digit)\n",
    "       temp = temp // 10\n",
    "\n",
    "    if num == sum:\n",
    "       print(num)\n"
   ]
  },
  {
   "cell_type": "markdown",
   "id": "e2155fa2",
   "metadata": {},
   "source": [
    "### 6. Write a Python Program to Find the Sum of Natural Numbers?\n"
   ]
  },
  {
   "cell_type": "code",
   "execution_count": 6,
   "id": "1b17bb48",
   "metadata": {},
   "outputs": [
    {
     "name": "stdout",
     "output_type": "stream",
     "text": [
      "Enter the number:6\n",
      "The Sum of first 6 Natural Numbers are 21\n"
     ]
    }
   ],
   "source": [
    "#To take input from user\n",
    "num = int(input(\"Enter the number:\"))\n",
    "\n",
    "#Computing sum\n",
    "sum = (num * (num + 1) / 2)\n",
    "\n",
    "#To display the computed sum\n",
    "print(\"The Sum of first {} Natural Numbers are {}\".format(num,int(sum)))"
   ]
  },
  {
   "cell_type": "code",
   "execution_count": null,
   "id": "f68102a7",
   "metadata": {},
   "outputs": [],
   "source": []
  }
 ],
 "metadata": {
  "kernelspec": {
   "display_name": "Python 3 (ipykernel)",
   "language": "python",
   "name": "python3"
  },
  "language_info": {
   "codemirror_mode": {
    "name": "ipython",
    "version": 3
   },
   "file_extension": ".py",
   "mimetype": "text/x-python",
   "name": "python",
   "nbconvert_exporter": "python",
   "pygments_lexer": "ipython3",
   "version": "3.9.7"
  }
 },
 "nbformat": 4,
 "nbformat_minor": 5
}
