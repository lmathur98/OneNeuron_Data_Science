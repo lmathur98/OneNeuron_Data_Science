{
 "cells": [
  {
   "cell_type": "markdown",
   "id": "7adb7565",
   "metadata": {},
   "source": [
    "# Programming Assignment 10"
   ]
  },
  {
   "cell_type": "markdown",
   "id": "f765fcb0",
   "metadata": {},
   "source": [
    "### 1. Write a Python program to find sum of elements in list?\n"
   ]
  },
  {
   "cell_type": "code",
   "execution_count": 1,
   "id": "2b1a0cde",
   "metadata": {},
   "outputs": [
    {
     "name": "stdout",
     "output_type": "stream",
     "text": [
      "Enter the number of elements in list:5\n",
      "Enter 1 element:23\n",
      "Enter 2 element:45\n",
      "Enter 3 element:3\n",
      "Enter 4 element:5\n",
      "Enter 5 element:4\n",
      "The sum of list elements is: 80\n"
     ]
    }
   ],
   "source": [
    "list = []\n",
    "size = int(input(\"Enter the number of elements in list:\"))\n",
    "for i in range(size):\n",
    "    list.append(int(input(\"Enter {} element:\".format(i+1))))\n",
    "print(\"The sum of list elements is:\",sum(list))"
   ]
  },
  {
   "cell_type": "markdown",
   "id": "c0e9b60f",
   "metadata": {},
   "source": [
    "### 2. Write a Python program to  Multiply all numbers in the list?\n"
   ]
  },
  {
   "cell_type": "code",
   "execution_count": 2,
   "id": "48e7666d",
   "metadata": {},
   "outputs": [
    {
     "name": "stdout",
     "output_type": "stream",
     "text": [
      "The Multiplication result is: 324000\n"
     ]
    }
   ],
   "source": [
    "list = [2,54,2,1,4,5,75]\n",
    "result = 1\n",
    "for i in list:\n",
    "    result *= i\n",
    "print(\"The Multiplication result is:\",result)"
   ]
  },
  {
   "cell_type": "markdown",
   "id": "c8d5dcd6",
   "metadata": {},
   "source": [
    "### 3. Write a Python program to find smallest number in a list?\n"
   ]
  },
  {
   "cell_type": "code",
   "execution_count": 3,
   "id": "7d6465ab",
   "metadata": {},
   "outputs": [
    {
     "name": "stdout",
     "output_type": "stream",
     "text": [
      "Enter the number of elements in list:5\n",
      "Enter 1 element:42\n",
      "Enter 2 element:54\n",
      "Enter 3 element:1\n",
      "Enter 4 element:34\n",
      "Enter 5 element:0\n",
      "The smallest element is: 0\n"
     ]
    }
   ],
   "source": [
    "list = []\n",
    "size = int(input(\"Enter the number of elements in list:\"))\n",
    "for i in range(size):\n",
    "    list.append(int(input(\"Enter {} element:\".format(i+1))))\n",
    "print(\"The smallest element is:\",min(list))"
   ]
  },
  {
   "cell_type": "markdown",
   "id": "d7bdf481",
   "metadata": {},
   "source": [
    "### 4. Write a Python program to find largest number in a list?\n"
   ]
  },
  {
   "cell_type": "code",
   "execution_count": 5,
   "id": "02784425",
   "metadata": {},
   "outputs": [
    {
     "name": "stdout",
     "output_type": "stream",
     "text": [
      "Enter the number of elements in list:5\n",
      "Enter 1 element:4\n",
      "Enter 2 element:32\n",
      "Enter 3 element:1\n",
      "Enter 4 element:54\n",
      "Enter 5 element:2\n",
      "The largest element is: 54\n"
     ]
    }
   ],
   "source": [
    "list = []\n",
    "size = int(input(\"Enter the number of elements in list:\"))\n",
    "for i in range(size):\n",
    "    list.append(int(input(\"Enter {} element:\".format(i+1))))\n",
    "print(\"The largest element is:\",max(list))"
   ]
  },
  {
   "cell_type": "markdown",
   "id": "a628962f",
   "metadata": {},
   "source": [
    "### 5. Write a Python program to find second largest number in a list?\n"
   ]
  },
  {
   "cell_type": "code",
   "execution_count": 6,
   "id": "0abfdb27",
   "metadata": {},
   "outputs": [
    {
     "name": "stdout",
     "output_type": "stream",
     "text": [
      "The second largest number from the list is: 54\n"
     ]
    }
   ],
   "source": [
    "list = [2,54,2,1,4,5,75]\n",
    "newlist = set(list)\n",
    "newlist.remove(max(newlist))\n",
    "print(\"The second largest number from the list is:\",max(newlist))"
   ]
  },
  {
   "cell_type": "markdown",
   "id": "fdf02dba",
   "metadata": {},
   "source": [
    "### 6. Write a Python program to find N largest elements from a list?\n"
   ]
  },
  {
   "cell_type": "code",
   "execution_count": 7,
   "id": "ed4c75c2",
   "metadata": {},
   "outputs": [
    {
     "name": "stdout",
     "output_type": "stream",
     "text": [
      "Enter the N:4\n",
      "The 4 largest number from the list is 4\n"
     ]
    }
   ],
   "source": [
    "list = [2,54,2,1,4,5,75]\n",
    "list.sort()\n",
    "n = int(input(\"Enter the N:\"))\n",
    "print(\"The {} largest number from the list is {}\".format(n,list[-n]))"
   ]
  },
  {
   "cell_type": "markdown",
   "id": "0898b1d4",
   "metadata": {},
   "source": [
    "### 7. Write a Python program to print even numbers in a list?\n"
   ]
  },
  {
   "cell_type": "code",
   "execution_count": 8,
   "id": "bd466571",
   "metadata": {},
   "outputs": [
    {
     "name": "stdout",
     "output_type": "stream",
     "text": [
      "Enter the number of elements in list:4\n",
      "Enter 1 element:32\n",
      "Enter 2 element:5\n",
      "Enter 3 element:4\n",
      "Enter 4 element:34\n",
      "Given list is: [32, 5, 4, 34]\n",
      "Even number of list are: [32, 4, 34]\n"
     ]
    }
   ],
   "source": [
    "list = []\n",
    "evenlist = []\n",
    "size = int(input(\"Enter the number of elements in list:\"))\n",
    "for i in range(size):\n",
    "    list.append(int(input(\"Enter {} element:\".format(i+1))))\n",
    "    if list[-1]%2 == 0:\n",
    "        evenlist.append(list[-1])\n",
    "\n",
    "print(\"Given list is:\",list)\n",
    "print(\"Even number of list are:\",evenlist)"
   ]
  },
  {
   "cell_type": "markdown",
   "id": "762b61c1",
   "metadata": {},
   "source": [
    "### 8. Write a Python program to print odd numbers in a List?\n"
   ]
  },
  {
   "cell_type": "code",
   "execution_count": 9,
   "id": "78cb04d4",
   "metadata": {},
   "outputs": [
    {
     "name": "stdout",
     "output_type": "stream",
     "text": [
      "Enter the number of elements in list:4\n",
      "Enter 1 element:32\n",
      "Enter 2 element:5\n",
      "Enter 3 element:4\n",
      "Enter 4 element:34\n",
      "Given list is: [32, 5, 4, 34]\n",
      "Odd number of list are: [5]\n"
     ]
    }
   ],
   "source": [
    "list = []\n",
    "oddlist = []\n",
    "size = int(input(\"Enter the number of elements in list:\"))\n",
    "for i in range(size):\n",
    "    list.append(int(input(\"Enter {} element:\".format(i+1))))\n",
    "    if list[-1]%2 != 0:\n",
    "        oddlist.append(list[-1])\n",
    "\n",
    "print(\"Given list is:\",list)\n",
    "print(\"Odd number of list are:\",oddlist)"
   ]
  },
  {
   "cell_type": "markdown",
   "id": "6a686c6b",
   "metadata": {},
   "source": [
    "### 9. Write a Python program to Remove empty List from List?\n"
   ]
  },
  {
   "cell_type": "code",
   "execution_count": 10,
   "id": "0a015b82",
   "metadata": {},
   "outputs": [
    {
     "name": "stdout",
     "output_type": "stream",
     "text": [
      "The updated list after removing empty list: [[1, 2, 3], 'ABC', True, [33, 44, 51], [7, 'abc', 9, 16], 32, (3+4j)]\n"
     ]
    }
   ],
   "source": [
    "list = [[1,2,3],\"ABC\",[],True,[],[33,44,51],[7, \"abc\",9,16],[],32,3+4j]\n",
    "newlist = [i for i in list if i != []]\n",
    "print(\"The updated list after removing empty list:\",newlist)"
   ]
  },
  {
   "cell_type": "markdown",
   "id": "36dbf29f",
   "metadata": {},
   "source": [
    "### 10. Write a Python program to Cloning or Copying a list?\n"
   ]
  },
  {
   "cell_type": "code",
   "execution_count": 11,
   "id": "02c730cd",
   "metadata": {},
   "outputs": [
    {
     "name": "stdout",
     "output_type": "stream",
     "text": [
      "Orginial list is: [[1, 2, 3], 'ABC', [], True, [], [33, 44, 51], [7, 'abc', 9, 16], [], 32, (3+4j)]\n",
      "Copied list is: [[1, 2, 3], 'ABC', [], True, [], [33, 44, 51], [7, 'abc', 9, 16], [], 32, (3+4j)]\n"
     ]
    }
   ],
   "source": [
    "list = [[1,2,3],\"ABC\",[],True,[],[33,44,51],[7, \"abc\",9,16],[],32,3+4j]\n",
    "\n",
    "newlist = list.copy()\n",
    "print(\"Orginial list is:\",list)\n",
    "print(\"Copied list is:\",newlist)"
   ]
  },
  {
   "cell_type": "markdown",
   "id": "95c42f56",
   "metadata": {},
   "source": [
    "### 11. Write a Python program to Count occurrences of an element in a list?"
   ]
  },
  {
   "cell_type": "code",
   "execution_count": 12,
   "id": "764c61d6",
   "metadata": {},
   "outputs": [
    {
     "name": "stdout",
     "output_type": "stream",
     "text": [
      "Enter the number of elements in list:4\n",
      "Enter 1 element:32\n",
      "Enter 2 element:45\n",
      "Enter 3 element:64\n",
      "Enter 4 element:45\n",
      "The list is: [32, 45, 64, 45]\n",
      "Enter the element whose occurrences is to be counted:45\n",
      "45 is occurred 2 times in the given list\n"
     ]
    }
   ],
   "source": [
    "list = []\n",
    "size = int(input(\"Enter the number of elements in list:\"))\n",
    "for i in range(size):\n",
    "    list.append(int(input(\"Enter {} element:\".format(i+1))))\n",
    "\n",
    "print(\"The list is:\",list)\n",
    "element = int(input(\"Enter the element whose occurrences is to be counted:\"))\n",
    "count = 0\n",
    "for i in list:\n",
    "    if i == element:\n",
    "        count += 1\n",
    "print(\"{} is occurred {} times in the given list\".format(element,count))"
   ]
  },
  {
   "cell_type": "code",
   "execution_count": null,
   "id": "776e6c6f",
   "metadata": {},
   "outputs": [],
   "source": []
  }
 ],
 "metadata": {
  "kernelspec": {
   "display_name": "Python 3 (ipykernel)",
   "language": "python",
   "name": "python3"
  },
  "language_info": {
   "codemirror_mode": {
    "name": "ipython",
    "version": 3
   },
   "file_extension": ".py",
   "mimetype": "text/x-python",
   "name": "python",
   "nbconvert_exporter": "python",
   "pygments_lexer": "ipython3",
   "version": "3.9.7"
  }
 },
 "nbformat": 4,
 "nbformat_minor": 5
}
