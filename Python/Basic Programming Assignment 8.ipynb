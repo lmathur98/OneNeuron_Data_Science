{
 "cells": [
  {
   "cell_type": "markdown",
   "id": "eeb853be",
   "metadata": {},
   "source": [
    "# Programming Assignment 8"
   ]
  },
  {
   "cell_type": "markdown",
   "id": "d9b78517",
   "metadata": {},
   "source": [
    "### 1. Write a Python Program to Add Two Matrices?"
   ]
  },
  {
   "cell_type": "code",
   "execution_count": 1,
   "id": "65e7ad72",
   "metadata": {},
   "outputs": [
    {
     "name": "stdout",
     "output_type": "stream",
     "text": [
      "Resultant Matrix after addition is: [[37, 66, 7], [35, 23, 15], [116, 15, 24]]\n"
     ]
    }
   ],
   "source": [
    "A = [[5,63,7],[1,2,3],[23,4,22]]\n",
    "B = [[32,3,0],[34,21,12],[93,11,2]]\n",
    "\n",
    "#Computing sum of Matrices\n",
    "C = [[A[i][j] + B[i][j]  for j in range (len(A[0]))] for i in range(len(A))]\n",
    "\n",
    "#Displaying the result\n",
    "print(\"Resultant Matrix after addition is:\",C)\n"
   ]
  },
  {
   "cell_type": "markdown",
   "id": "c790da2b",
   "metadata": {},
   "source": [
    "### 2. Write a Python Program to Multiply Two Matrices?"
   ]
  },
  {
   "cell_type": "code",
   "execution_count": 2,
   "id": "b99ad385",
   "metadata": {
    "scrolled": true
   },
   "outputs": [
    {
     "name": "stdout",
     "output_type": "stream",
     "text": [
      "Resultant Matrix after Multiplication is: [[2953, 1762, 833], [379, 229, 57], [2918, 1471, 290]]\n"
     ]
    }
   ],
   "source": [
    "A = [[5,63,7],[1,2,3],[23,4,22]] \n",
    "B = [[32,1,0],[34,21,12],[93,62,11]]\n",
    "C = [[0,0,0],[0,0,0],[0,0,0]]\n",
    "\n",
    "#Cumputing Multiplication of Matrices\n",
    "for i in range(len(A)):\n",
    "    for j in range(len(B[0])):\n",
    "        for k in range(len(B)):\n",
    "            C[i][j] = C[i][j] + A[i][k] * B[k][j]\n",
    "\n",
    "#Displaying the result\n",
    "print(\"Resultant Matrix after Multiplication is:\",C)\n"
   ]
  },
  {
   "cell_type": "markdown",
   "id": "714eebdf",
   "metadata": {},
   "source": [
    "### 3. Write a Python Program to Transpose a Matrix?"
   ]
  },
  {
   "cell_type": "code",
   "execution_count": 3,
   "id": "910bb7c4",
   "metadata": {},
   "outputs": [
    {
     "name": "stdout",
     "output_type": "stream",
     "text": [
      "The Transpose of given matrix is: [[5, 1, 23], [63, 2, 4], [7, 3, 22]]\n"
     ]
    }
   ],
   "source": [
    "A = [[5,63,7],[1,2,3],[23,4,22]]\n",
    "\n",
    "print(\"The Transpose of given matrix is:\",[[A[j][i] for j in range(len(A))] for i in range(len(A[0]))])\n"
   ]
  },
  {
   "cell_type": "markdown",
   "id": "99536de2",
   "metadata": {},
   "source": [
    "### 4. Write a Python Program to Sort Words in Alphabetic Order?"
   ]
  },
  {
   "cell_type": "code",
   "execution_count": 4,
   "id": "b2d474e7",
   "metadata": {},
   "outputs": [
    {
     "name": "stdout",
     "output_type": "stream",
     "text": [
      "Enter a string: This is basic Python Assignment 8\n",
      "The sorted words are:\n",
      "8\n",
      "assignment\n",
      "basic\n",
      "is\n",
      "python\n",
      "this\n"
     ]
    }
   ],
   "source": [
    "#Taking input from user\n",
    "str = input(\"Enter a string: \")\n",
    "\n",
    "#Arranging string in Alphabatical order\n",
    "str = str.lower()\n",
    "str = str.split()\n",
    "str.sort()\n",
    "\n",
    "#Printing the result\n",
    "print(\"The sorted words are:\")\n",
    "for ch in str:\n",
    "    print(ch)\n",
    "\n"
   ]
  },
  {
   "cell_type": "markdown",
   "id": "830a828e",
   "metadata": {},
   "source": [
    "### 5. Write a Python Program to Remove Punctuation From a String?"
   ]
  },
  {
   "cell_type": "code",
   "execution_count": 5,
   "id": "24c44036",
   "metadata": {},
   "outputs": [
    {
     "name": "stdout",
     "output_type": "stream",
     "text": [
      "Enter a string: Hello@one_neuron#this^is.a,Python;\";:Assignment!!\n",
      "HellooneneuronthisisaPythonAssignment\n"
     ]
    }
   ],
   "source": [
    "#importing the string module \n",
    "import string\n",
    "\n",
    "#Taking input from user\n",
    "str = input(\"Enter a string: \")\n",
    "\n",
    "newstr = \"\"\n",
    "for i in str:\n",
    "    if i not in string.punctuation:\n",
    "        newstr += i\n",
    "#Displaying the result     \n",
    "print(newstr)"
   ]
  },
  {
   "cell_type": "code",
   "execution_count": null,
   "id": "771eda40",
   "metadata": {},
   "outputs": [],
   "source": []
  }
 ],
 "metadata": {
  "kernelspec": {
   "display_name": "Python 3 (ipykernel)",
   "language": "python",
   "name": "python3"
  },
  "language_info": {
   "codemirror_mode": {
    "name": "ipython",
    "version": 3
   },
   "file_extension": ".py",
   "mimetype": "text/x-python",
   "name": "python",
   "nbconvert_exporter": "python",
   "pygments_lexer": "ipython3",
   "version": "3.9.7"
  }
 },
 "nbformat": 4,
 "nbformat_minor": 5
}
