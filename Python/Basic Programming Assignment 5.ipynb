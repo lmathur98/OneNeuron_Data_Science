{
 "cells": [
  {
   "cell_type": "markdown",
   "id": "eeb853be",
   "metadata": {},
   "source": [
    "# Programming Assignment 5"
   ]
  },
  {
   "cell_type": "markdown",
   "id": "d9b78517",
   "metadata": {},
   "source": [
    "### 1. Write a Python Program to Find LCM?"
   ]
  },
  {
   "cell_type": "code",
   "execution_count": 1,
   "id": "65e7ad72",
   "metadata": {},
   "outputs": [
    {
     "name": "stdout",
     "output_type": "stream",
     "text": [
      "Enter the first number:17\n",
      "Enter the second number:19\n",
      "L.C.M. of 17 and 19 is: 323\n"
     ]
    }
   ],
   "source": [
    "num1=int(input(\"Enter the first number:\"))\n",
    "num2=int(input(\"Enter the second number:\"))\n",
    "\n",
    "if(num1 > num2):\n",
    "    temp = num1\n",
    "else:\n",
    "    temp = num2\n",
    "while(1):\n",
    "    if(temp % num1 == 0 and temp % num2 == 0):\n",
    "        print(\"L.C.M. of {} and {} is: {}\".format(num1,num2,temp))\n",
    "        break\n",
    "    temp = temp + 1\n"
   ]
  },
  {
   "cell_type": "markdown",
   "id": "c790da2b",
   "metadata": {},
   "source": [
    "### 2. Write a Python Program to Find HCF?"
   ]
  },
  {
   "cell_type": "code",
   "execution_count": 2,
   "id": "b99ad385",
   "metadata": {},
   "outputs": [
    {
     "name": "stdout",
     "output_type": "stream",
     "text": [
      "Enter the first number:27\n",
      "Enter the second number:15\n",
      "H.C.M. of 27 and 15 is:\n",
      "3\n"
     ]
    }
   ],
   "source": [
    "# define a function\n",
    "def HCF(num1,num2):\n",
    "    if num1 < num2:\n",
    "        temp = num1\n",
    "    else:\n",
    "        temp = num2\n",
    "        \n",
    "    for i in range(1, temp+1):\n",
    "        if((num1 % i == 0) and (num2 % i == 0)):\n",
    "            result = i \n",
    "    print(result)\n",
    "\n",
    "#Taking two numbers as input from user\n",
    "num1=int(input(\"Enter the first number:\"))\n",
    "num2=int(input(\"Enter the second number:\"))\n",
    "\n",
    "print(\"H.C.M. of {} and {} is:\".format(num1,num2))\n",
    "#Function call\n",
    "HCF(num1,num2)\n"
   ]
  },
  {
   "cell_type": "markdown",
   "id": "714eebdf",
   "metadata": {},
   "source": [
    "### 3. Write a Python Program to Convert Decimal to Binary, Octal and Hexadecimal?"
   ]
  },
  {
   "cell_type": "code",
   "execution_count": 3,
   "id": "910bb7c4",
   "metadata": {},
   "outputs": [
    {
     "name": "stdout",
     "output_type": "stream",
     "text": [
      "Enter a number(Decimal):133\n",
      "Respective\n",
      " Binary value: 0b10000101 \n",
      " Octal value: 0o205 \n",
      " Hexadecimal value: 0x85\n"
     ]
    }
   ],
   "source": [
    "num = int(input(\"Enter a number(Decimal):\"))\n",
    "\n",
    "binary = bin(num)\n",
    "octal = oct(num)\n",
    "hexadecimal = hex(num)\n",
    "\n",
    "print(\"Respective\\n Binary value: {} \\n Octal value: {} \\n Hexadecimal value: {}\".format(binary,octal,hexadecimal))\n"
   ]
  },
  {
   "cell_type": "markdown",
   "id": "99536de2",
   "metadata": {},
   "source": [
    "### 4. Write a Python Program To Find ASCII value of a character?"
   ]
  },
  {
   "cell_type": "code",
   "execution_count": 4,
   "id": "b2d474e7",
   "metadata": {},
   "outputs": [
    {
     "name": "stdout",
     "output_type": "stream",
     "text": [
      "Enter a single character only:L\n",
      "The ASCII value of L is 76\n"
     ]
    }
   ],
   "source": [
    "#Taking a character as input from the user\n",
    "char = input(\"Enter a single character only:\")\n",
    "\n",
    "print(\"The ASCII value of\",char,\"is\",ord(char))\n"
   ]
  },
  {
   "cell_type": "markdown",
   "id": "830a828e",
   "metadata": {},
   "source": [
    "### 5. Write a Python Program to Make a Simple Calculator with 4 basic mathematical operations?"
   ]
  },
  {
   "cell_type": "code",
   "execution_count": 5,
   "id": "24c44036",
   "metadata": {},
   "outputs": [
    {
     "name": "stdout",
     "output_type": "stream",
     "text": [
      "Enter value 1: 32\n",
      "Enter value 2: 7\n",
      "Enter any one of the operator (+,-,*,/): /\n",
      "The result is  4.571428571428571\n"
     ]
    }
   ],
   "source": [
    "#Program to create a four function calculator \n",
    "\n",
    "result = 0\n",
    "val1 = float(input(\"Enter value 1: \"))\n",
    "val2 = float(input(\"Enter value 2: \"))\n",
    "\n",
    "op = input(\"Enter any one of the operator (+,-,*,/): \")\n",
    "\n",
    "if op == \"+\":\n",
    "    result = val1 + val2\n",
    "\n",
    "elif op == \"-\":\n",
    "    if val1 > val2:\n",
    "        result = val1 - val2\n",
    "    else:\n",
    "        result = val2 - val1 \n",
    "\n",
    "elif op == \"*\":\n",
    "    result = val1 * val2 \n",
    "\n",
    "elif op == \"/\":\n",
    "    if val2 == 0:\n",
    "        print(\"Error! Division by zero is not allowed. Program terminated\")\n",
    "    else:\n",
    "        result = val1/val2\n",
    "\n",
    "else:\n",
    "    print(\"Wrong input,program terminated\") \n",
    "\n",
    "print(\"The result is \",result)\n"
   ]
  }
 ],
 "metadata": {
  "kernelspec": {
   "display_name": "Python 3 (ipykernel)",
   "language": "python",
   "name": "python3"
  },
  "language_info": {
   "codemirror_mode": {
    "name": "ipython",
    "version": 3
   },
   "file_extension": ".py",
   "mimetype": "text/x-python",
   "name": "python",
   "nbconvert_exporter": "python",
   "pygments_lexer": "ipython3",
   "version": "3.9.7"
  }
 },
 "nbformat": 4,
 "nbformat_minor": 5
}
