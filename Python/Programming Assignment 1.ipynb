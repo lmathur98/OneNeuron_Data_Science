{
 "cells": [
  {
   "cell_type": "markdown",
   "metadata": {},
   "source": [
    "# Programming Assignment 1"
   ]
  },
  {
   "cell_type": "markdown",
   "metadata": {},
   "source": [
    "1. Write a Python program to print \"Hello Python\"?"
   ]
  },
  {
   "cell_type": "code",
   "execution_count": 1,
   "metadata": {},
   "outputs": [
    {
     "name": "stdout",
     "output_type": "stream",
     "text": [
      "Hello Python\n"
     ]
    }
   ],
   "source": [
    "print(\"Hello Python\")"
   ]
  },
  {
   "cell_type": "markdown",
   "metadata": {},
   "source": [
    "2. Write a Python program to do arithmetical operations addition and division.?"
   ]
  },
  {
   "cell_type": "code",
   "execution_count": 2,
   "metadata": {},
   "outputs": [
    {
     "name": "stdout",
     "output_type": "stream",
     "text": [
      "Enter first number:10\n",
      "Enter second number:5\n",
      "Addition: 15\n",
      "Division: 2.0\n"
     ]
    }
   ],
   "source": [
    "# taking 2 interger numbers as input\n",
    "num1 = int(input(\"Enter first number:\"))\n",
    "num2 = int(input(\"Enter second number:\"))\n",
    "addition = num1 + num2\n",
    "division = num1 / num2\n",
    "print(\"Addition:\",addition)\n",
    "print(\"Division:\",division)"
   ]
  },
  {
   "cell_type": "markdown",
   "metadata": {},
   "source": [
    "3. Write a Python program to find the area of a triangle?"
   ]
  },
  {
   "cell_type": "code",
   "execution_count": 4,
   "metadata": {},
   "outputs": [
    {
     "name": "stdout",
     "output_type": "stream",
     "text": [
      "Enter base of triangle:20.5\n",
      "Enter height of triangle:2.5\n",
      "Area of triangle(centimeter square): 25.625\n"
     ]
    }
   ],
   "source": [
    "#taking base and height of triangle as input in centimeter\n",
    "base = float(input(\"Enter base of triangle:\"))\n",
    "height = float(input(\"Enter height of triangle:\"))\n",
    "\n",
    "#calculating area and printing it\n",
    "area = (1/2) * base * height\n",
    "print(\"Area of triangle(centimeter square):\",area)"
   ]
  },
  {
   "cell_type": "markdown",
   "metadata": {},
   "source": [
    "4. Write a Python program to swap two variables?"
   ]
  },
  {
   "cell_type": "code",
   "execution_count": 7,
   "metadata": {},
   "outputs": [
    {
     "name": "stdout",
     "output_type": "stream",
     "text": [
      "Numbers before Swapping - Num1: 2 and Num2: 5\n",
      "Numbers after Swapping - Num1: 5 and Num2: 2\n"
     ]
    }
   ],
   "source": [
    "num1 = 2\n",
    "num2 = 5\n",
    "print(\"Numbers before Swapping - Num1:\",num1,\"and Num2:\",num2)\n",
    "\n",
    "#swapping using a vaiable\n",
    "temp = num1\n",
    "num1 = num2\n",
    "num2 = temp\n",
    "\n",
    "print(\"Numbers after Swapping - Num1:\",num1,\"and Num2:\",num2)"
   ]
  },
  {
   "cell_type": "markdown",
   "metadata": {},
   "source": [
    "5. Write a Python program to generate a random number?"
   ]
  },
  {
   "cell_type": "code",
   "execution_count": 14,
   "metadata": {},
   "outputs": [
    {
     "name": "stdout",
     "output_type": "stream",
     "text": [
      "0.9630711576972352\n",
      "4\n"
     ]
    }
   ],
   "source": [
    "# For a ranndom number, we need to import random module an then from that module we will use a function\n",
    "import random\n",
    "\n",
    "#random() will generate any random real number between 0 and 1\n",
    "print(random.random())\n",
    "\n",
    "#randint(x,y) will generate any random integer number between x and y\n",
    "print(random.randint(1,5))"
   ]
  }
 ],
 "metadata": {
  "kernelspec": {
   "display_name": "Python 3 (ipykernel)",
   "language": "python",
   "name": "python3"
  },
  "language_info": {
   "codemirror_mode": {
    "name": "ipython",
    "version": 3
   },
   "file_extension": ".py",
   "mimetype": "text/x-python",
   "name": "python",
   "nbconvert_exporter": "python",
   "pygments_lexer": "ipython3",
   "version": "3.9.7"
  }
 },
 "nbformat": 4,
 "nbformat_minor": 2
}
