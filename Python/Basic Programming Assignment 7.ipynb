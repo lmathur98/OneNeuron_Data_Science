{
 "cells": [
  {
   "cell_type": "markdown",
   "id": "eeb853be",
   "metadata": {},
   "source": [
    "# Programming Assignment 7"
   ]
  },
  {
   "cell_type": "markdown",
   "id": "d9b78517",
   "metadata": {},
   "source": [
    "### 1. Write a Python Program to find sum of array?"
   ]
  },
  {
   "cell_type": "code",
   "execution_count": 1,
   "id": "65e7ad72",
   "metadata": {},
   "outputs": [
    {
     "name": "stdout",
     "output_type": "stream",
     "text": [
      "Enter total number of elements to be store in an array: 5\n",
      "Enter 1 element:3\n",
      "Enter 2 element:6\n",
      "Enter 3 element:12\n",
      "Enter 4 element:4\n",
      "Enter 5 element:9\n",
      "The array: [ 3  6 12  4  9]\n",
      "Total sum of elements of array: 34\n"
     ]
    }
   ],
   "source": [
    "#Importing numpy module \n",
    "import numpy as np\n",
    "\n",
    "#Taking size of array and its elements from user\n",
    "size = int(input(\"Enter total number of elements to be store in an array: \"))\n",
    "element = []\n",
    "\n",
    "for i in range(size):\n",
    "    element.append(int(input(\"Enter {} element:\".format(i+1))))\n",
    "\n",
    "arr = np.array(element)\n",
    "\n",
    "#Printing array and sum of its elements\n",
    "print(\"The array:\",arr)\n",
    "print(\"Total sum of elements of array:\",np.sum(arr))"
   ]
  },
  {
   "cell_type": "markdown",
   "id": "c790da2b",
   "metadata": {},
   "source": [
    "### 2. Write a Python Program to find largest element in an array?"
   ]
  },
  {
   "cell_type": "code",
   "execution_count": 2,
   "id": "b99ad385",
   "metadata": {},
   "outputs": [
    {
     "name": "stdout",
     "output_type": "stream",
     "text": [
      "Enter total number of elements to be store in an array: 5\n",
      "Enter 1 element:2\n",
      "Enter 2 element:32\n",
      "Enter 3 element:5\n",
      "Enter 4 element:45\n",
      "Enter 5 element:31\n",
      "The maximum element of array: 45\n"
     ]
    }
   ],
   "source": [
    "#Importing numpy module \n",
    "import numpy as np\n",
    "\n",
    "#Taking size of array and its elements from user\n",
    "size = int(input(\"Enter total number of elements to be store in an array: \"))\n",
    "element = []\n",
    "\n",
    "for i in range(size):\n",
    "    element.append(int(input(\"Enter {} element:\".format(i+1))))\n",
    "\n",
    "arr = np.array(element)\n",
    "\n",
    "#Printing maximum elements from array \n",
    "print(\"The maximum element of array:\",np.max(arr))"
   ]
  },
  {
   "cell_type": "markdown",
   "id": "714eebdf",
   "metadata": {},
   "source": [
    "### 3. Write a Python Program for array rotation?"
   ]
  },
  {
   "cell_type": "code",
   "execution_count": 3,
   "id": "910bb7c4",
   "metadata": {},
   "outputs": [
    {
     "name": "stdout",
     "output_type": "stream",
     "text": [
      "Enter total number of elements to be store in an array: 4\n",
      "Enter 1 element:1\n",
      "Enter 2 element:45\n",
      "Enter 3 element:6\n",
      "Enter 4 element:8\n",
      "The array: [ 1 45  6  8]\n",
      "The rotated array: [ 8  6 45  1]\n"
     ]
    }
   ],
   "source": [
    "#Importing numpy module \n",
    "import numpy as np\n",
    "\n",
    "#Taking size of array and its elements from user\n",
    "size = int(input(\"Enter total number of elements to be store in an array: \"))\n",
    "element = []\n",
    "for i in range(size):\n",
    "    element.append(int(input(\"Enter {} element:\".format(i+1))))\n",
    "\n",
    "#Making array from element list\n",
    "arr = np.array(element)\n",
    "print(\"The array:\",arr)\n",
    "\n",
    "#Rotating an array\n",
    "r_element = []\n",
    "for i in range(1,len(element)+1):\n",
    "    r_element.append(element[-i])\n",
    "\n",
    "#Printing the rotated array \n",
    "r_arr = np.array(r_element)\n",
    "print(\"The rotated array:\",r_arr)\n",
    "\n"
   ]
  },
  {
   "cell_type": "markdown",
   "id": "99536de2",
   "metadata": {},
   "source": [
    "### 4. Write a Python Program to Split the array and add the first part to the end?"
   ]
  },
  {
   "cell_type": "code",
   "execution_count": 4,
   "id": "b2d474e7",
   "metadata": {},
   "outputs": [
    {
     "name": "stdout",
     "output_type": "stream",
     "text": [
      "Given array is: [ 1  5  6  3 41 45  6 78 32 54]\n",
      "After spliting and rearrange array is: [45  6 78 32 54  1  5  6  3 41]\n"
     ]
    }
   ],
   "source": [
    "#Importing numpy module \n",
    "import numpy as np\n",
    "\n",
    "element = [1,5,6,3,41,45,6,78,32,54]\n",
    "\n",
    "#Making array from element list\n",
    "arr = np.array(element)\n",
    "print(\"Given array is:\",arr)\n",
    "\n",
    "mid = len(arr) // 2\n",
    "first = arr[:mid]\n",
    "last = arr[mid:]\n",
    "\n",
    "newarr = np.concatenate((last,first),axis=0)\n",
    "\n",
    "print(\"After spliting and rearrange array is:\",newarr)\n",
    "\n"
   ]
  },
  {
   "cell_type": "markdown",
   "id": "830a828e",
   "metadata": {},
   "source": [
    "### 5. Write a Python Program to check if given array is Monotonic?"
   ]
  },
  {
   "cell_type": "code",
   "execution_count": 5,
   "id": "24c44036",
   "metadata": {},
   "outputs": [
    {
     "name": "stdout",
     "output_type": "stream",
     "text": [
      "Enter total number of elements to be store in an array: 5\n",
      "Enter 1 element:3\n",
      "Enter 2 element:5\n",
      "Enter 3 element:14\n",
      "Enter 4 element:56\n",
      "Enter 5 element:88\n",
      "The array: [ 3  5 14 56 88]\n",
      "This array is Monotonic\n"
     ]
    }
   ],
   "source": [
    "#Importing numpy module \n",
    "import numpy as np\n",
    "\n",
    "#Taking size of array and its elements from user\n",
    "size = int(input(\"Enter total number of elements to be store in an array: \"))\n",
    "element = []\n",
    "for i in range(size):\n",
    "    element.append(int(input(\"Enter {} element:\".format(i+1))))\n",
    "\n",
    "#Making array from element list\n",
    "arr = np.array(element)\n",
    "print(\"The array:\",arr)\n",
    "\n",
    "if((all(element[i] <= element[i + 1] for i in range(len(element) - 1)) or all(element[i] >= element[i + 1] for i in range(len(element) - 1)))):\n",
    "    print(\"This array is Monotonic\")\n",
    "else:\n",
    "    print(\"This array is not Monotonic\")"
   ]
  },
  {
   "cell_type": "code",
   "execution_count": null,
   "id": "c01cf36f",
   "metadata": {},
   "outputs": [],
   "source": []
  }
 ],
 "metadata": {
  "kernelspec": {
   "display_name": "Python 3 (ipykernel)",
   "language": "python",
   "name": "python3"
  },
  "language_info": {
   "codemirror_mode": {
    "name": "ipython",
    "version": 3
   },
   "file_extension": ".py",
   "mimetype": "text/x-python",
   "name": "python",
   "nbconvert_exporter": "python",
   "pygments_lexer": "ipython3",
   "version": "3.9.7"
  }
 },
 "nbformat": 4,
 "nbformat_minor": 5
}
