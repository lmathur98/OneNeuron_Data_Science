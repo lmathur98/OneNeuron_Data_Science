{
 "cells": [
  {
   "cell_type": "markdown",
   "id": "7adb7565",
   "metadata": {},
   "source": [
    "# Programming Assignment 13"
   ]
  },
  {
   "cell_type": "markdown",
   "id": "f765fcb0",
   "metadata": {},
   "source": [
    "### 1. Write a program that calculates and prints the value according to the given formula:\n",
    "\n",
    "Q = Square root of [(2 * C * D)/H]\n",
    "\n",
    "Following are the fixed values of C and H:\n",
    "C is 50. H is 30.\n",
    "D is the variable whose values should be input to your program in a comma-separated sequence.\n",
    "\n",
    "Example\n",
    "Let us assume the following comma separated input sequence is given to the program:\n",
    "\n",
    "100,150,180\n",
    "\n",
    "The output of the program should be:\n",
    "\n",
    "18,22,24"
   ]
  },
  {
   "cell_type": "code",
   "execution_count": 1,
   "id": "2b1a0cde",
   "metadata": {},
   "outputs": [
    {
     "name": "stdout",
     "output_type": "stream",
     "text": [
      "18,22,24\n"
     ]
    }
   ],
   "source": [
    "# Importing the math module\n",
    "import math\n",
    "\n",
    "# Defining the funtion\n",
    "def find(*args):\n",
    "    result = []\n",
    "    \n",
    "    for i in args:\n",
    "        ans = int(math.sqrt((2*50*i)/30))\n",
    "        result.append(ans)\n",
    "    \n",
    "    # Converting the result list from integer type to string type to get our result in comma separated output\n",
    "    result = [str(i) for i in result]\n",
    "    print(((\",\").join(result)))\n",
    "\n",
    "find(100,150,180)   #Funtion call\n"
   ]
  },
  {
   "cell_type": "markdown",
   "id": "c0e9b60f",
   "metadata": {},
   "source": [
    "### 2. Write a program which takes 2 digits, X,Y as input and generates a 2-dimensional array. The element value in the i-th row and j-th column of the array should be i*j. \n",
    "Note: i=0,1.., X-1; j=0,1,¡Y-1.\n",
    "\n",
    "Example\n",
    "\n",
    "Suppose the following inputs are given to the program: 3,5\n",
    "\n",
    "Then, the output of the program should be:  [[0, 0, 0, 0, 0], [0, 1, 2, 3, 4], [0, 2, 4, 6, 8]] "
   ]
  },
  {
   "cell_type": "code",
   "execution_count": 2,
   "id": "48e7666d",
   "metadata": {},
   "outputs": [
    {
     "name": "stdout",
     "output_type": "stream",
     "text": [
      "Enter values for number of rows and columns: 3,5\n",
      "[[0, 0, 0, 0, 0], [0, 1, 2, 3, 4], [0, 2, 4, 6, 8]]\n"
     ]
    }
   ],
   "source": [
    "# Taking input from user for number of rows and columns separated by comma(,)\n",
    "number = input(\"Enter values for number of rows and columns: \")\n",
    "rows,columns = number.split(\",\")\n",
    "\n",
    "# Computing the resultant matrix\n",
    "matrix = []\n",
    "for i in range(int(rows)):\n",
    "    temp = []\n",
    "    for j in range(int(columns)):\n",
    "        temp.append(i * j)\n",
    "    matrix.append(temp)\n",
    "\n",
    "# Displaying the matrix \n",
    "print(matrix)\n"
   ]
  },
  {
   "cell_type": "markdown",
   "id": "c8d5dcd6",
   "metadata": {},
   "source": [
    "### 3. Write a program that accepts a comma separated sequence of words as input and prints the words in a comma-separated sequence after sorting them alphabetically.\n",
    "\n",
    "Suppose the following input is supplied to the program:   \n",
    "\n",
    "without,hello,bag,world\n",
    "\n",
    "Then, the output should be:   \n",
    "\n",
    "bag,hello,without,world\n"
   ]
  },
  {
   "cell_type": "code",
   "execution_count": 3,
   "id": "7d6465ab",
   "metadata": {},
   "outputs": [
    {
     "name": "stdout",
     "output_type": "stream",
     "text": [
      "Enter Sentence: without,hello,bag,world,cat\n",
      "bag,cat,hello,without,world\n"
     ]
    }
   ],
   "source": [
    "# Taking input from user\n",
    "a = input(\"Enter Sentence: \")\n",
    "\n",
    "# Splitting the words from list\n",
    "list1 = a.split(\",\")\n",
    "\n",
    "# Sorting the words and then printing the result \n",
    "list1.sort()\n",
    "print((',').join(list1))\n"
   ]
  },
  {
   "cell_type": "markdown",
   "id": "d7bdf481",
   "metadata": {},
   "source": [
    "### 4. Write a program that accepts a sequence of whitespace separated words as input and prints the words after removing all duplicate words and sorting them alphanumerically.\n",
    "\n",
    "Suppose the following input is supplied to the program:\n",
    "\n",
    "hello world and practice makes perfect and hello world again\n",
    "\n",
    "Then, the output should be:\n",
    "\n",
    "again and hello makes perfect practice world\n"
   ]
  },
  {
   "cell_type": "code",
   "execution_count": 4,
   "id": "02784425",
   "metadata": {
    "scrolled": true
   },
   "outputs": [
    {
     "name": "stdout",
     "output_type": "stream",
     "text": [
      "Enter Sentence: hello world and practice makes perfect and hello world again\n"
     ]
    },
    {
     "data": {
      "text/plain": [
       "'again and hello makes perfect practice world'"
      ]
     },
     "execution_count": 4,
     "metadata": {},
     "output_type": "execute_result"
    }
   ],
   "source": [
    "# Defining the funtion to print the words after removing all duplicate words and sorting them alphanumerically.\n",
    "def fun1(lst):\n",
    "    result=[]\n",
    "    lst.sort()\n",
    "    \n",
    "    for i in lst:\n",
    "        if i not in result:\n",
    "            result.append(i)\n",
    "    \n",
    "    return ' '.join(result)\n",
    "\n",
    "# Taking input from user\n",
    "a = input(\"Enter Sentence: \")\n",
    "\n",
    "# Splitting the words from list\n",
    "list2 = a.split(\" \")\n",
    "\n",
    "# Function call\n",
    "fun1(list2)\n"
   ]
  },
  {
   "cell_type": "markdown",
   "id": "a628962f",
   "metadata": {},
   "source": [
    "### 5. Write a program that accepts a sentence and calculate the number of letters and digits.\n",
    "\n",
    "Suppose the following input is supplied to the program:\n",
    "\n",
    "hello world! 123\n",
    "\n",
    "Then, the output should be:\n",
    "\n",
    "LETTERS 10\n",
    "\n",
    "DIGITS 3\n"
   ]
  },
  {
   "cell_type": "code",
   "execution_count": 5,
   "id": "0abfdb27",
   "metadata": {},
   "outputs": [
    {
     "name": "stdout",
     "output_type": "stream",
     "text": [
      "Enter Sentence: hello world! 123\n",
      "Letters: 10\n",
      "Digits: 3\n"
     ]
    }
   ],
   "source": [
    "# Taking input from user\n",
    "a = input(\"Enter Sentence: \")\n",
    "list3 = list(a)\n",
    "\n",
    "# Computing number of letters and words from given sentence\n",
    "l=0\n",
    "d=0\n",
    "for i in list3:\n",
    "    if i.isalpha():\n",
    "        l = l + 1\n",
    "    if i.isdigit():\n",
    "        d = d + 1\n",
    "    else:\n",
    "        pass\n",
    "\n",
    "# Displaying the result\n",
    "print(\"Letters:\", l)\n",
    "print(\"Digits:\", d)\n"
   ]
  },
  {
   "cell_type": "markdown",
   "id": "fdf02dba",
   "metadata": {},
   "source": [
    "### 6. A website requires the users to input username and password to register. Write a program to check the validity of password input by users.\n",
    "\n",
    "Following are the criteria for checking the password:\n",
    "1. At least 1 letter between [a-z]\n",
    "2. At least 1 number between [0-9]\n",
    "3. At least 1 letter between [A-Z]\n",
    "4. At least 1 character from [$#@]\n",
    "5. Minimum length of transaction password: 6\n",
    "6. Maximum length of transaction password: 12\n",
    "\n",
    "Your program should accept a sequence of comma separated passwords and will check them according to the above criteria. Passwords that match the criteria are to be printed, each separated by a comma.\n",
    "\n",
    "Example\n",
    "\n",
    "If the following passwords are given as input to the program:\n",
    "\n",
    "ABd1234@1,a F1#,2w3E*,2We3345\n",
    "\n",
    "Then, the output of the program should be:\n",
    "\n",
    "ABd1234@1"
   ]
  },
  {
   "cell_type": "code",
   "execution_count": 6,
   "id": "88e80dbe",
   "metadata": {},
   "outputs": [
    {
     "name": "stdout",
     "output_type": "stream",
     "text": [
      "Enter Passwords: ABd1234@1,a F1#,2w3E*,2We3345,bhDE32@,weSD123@@\n",
      "ABd1234@1,bhDE32@,weSD123@@\n"
     ]
    }
   ],
   "source": [
    "import re\n",
    "\n",
    "a = input(\"Enter Passwords: \")\n",
    "password = a.split(\",\")\n",
    "\n",
    "result = []\n",
    "for i in password:\n",
    "    \n",
    "    if not re.search(\"([a-z])+\", i):\n",
    "        continue\n",
    "    elif not re.search(\"([0-9])+\", i):\n",
    "        continue\n",
    "    elif not re.search(\"([A-Z])+\", i):\n",
    "        continue\n",
    "    elif not re.search(\"([$#@])+\", i):\n",
    "        continue\n",
    "    elif len(i) < 6 or len(i) > 12:\n",
    "        continue\n",
    "    else:\n",
    "        result.append(i)\n",
    "\n",
    "print((\",\").join(result))\n"
   ]
  },
  {
   "cell_type": "code",
   "execution_count": null,
   "id": "63220ac9",
   "metadata": {},
   "outputs": [],
   "source": []
  }
 ],
 "metadata": {
  "kernelspec": {
   "display_name": "Python 3 (ipykernel)",
   "language": "python",
   "name": "python3"
  },
  "language_info": {
   "codemirror_mode": {
    "name": "ipython",
    "version": 3
   },
   "file_extension": ".py",
   "mimetype": "text/x-python",
   "name": "python",
   "nbconvert_exporter": "python",
   "pygments_lexer": "ipython3",
   "version": "3.9.7"
  }
 },
 "nbformat": 4,
 "nbformat_minor": 5
}
