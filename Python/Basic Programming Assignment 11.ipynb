{
 "cells": [
  {
   "cell_type": "markdown",
   "id": "7adb7565",
   "metadata": {},
   "source": [
    "# Programming Assignment 11\n"
   ]
  },
  {
   "cell_type": "markdown",
   "id": "f765fcb0",
   "metadata": {},
   "source": [
    "### 1. Write a Python program to find words which are greater than given length k?"
   ]
  },
  {
   "cell_type": "code",
   "execution_count": 1,
   "id": "2b1a0cde",
   "metadata": {},
   "outputs": [
    {
     "name": "stdout",
     "output_type": "stream",
     "text": [
      "Enter the value of k:4\n",
      "Enter a string:This is Basic Python Programming Assignment\n"
     ]
    },
    {
     "data": {
      "text/plain": [
       "['Basic', 'Python', 'Programming', 'Assignment']"
      ]
     },
     "execution_count": 1,
     "metadata": {},
     "output_type": "execute_result"
    }
   ],
   "source": [
    "#Defining a function to find words which are grater than given length k \n",
    "def Greater(str,k):\n",
    "    newstr = []\n",
    "    word = str.split(\" \")\n",
    "    for i in range(len(word)):\n",
    "        if len(word[i]) > k:\n",
    "            newstr.append(word[i])\n",
    "            \n",
    "    return newstr\n",
    "\n",
    "#taking input from user\n",
    "k = int(input(\"Enter the value of k:\"))\n",
    "str = input(\"Enter a string:\")\n",
    "\n",
    "#Calling function\n",
    "Greater(str,k)"
   ]
  },
  {
   "cell_type": "markdown",
   "id": "c0e9b60f",
   "metadata": {},
   "source": [
    "### 2. Write a Python program for removing i-th character from a string?"
   ]
  },
  {
   "cell_type": "code",
   "execution_count": 2,
   "id": "48e7666d",
   "metadata": {},
   "outputs": [
    {
     "name": "stdout",
     "output_type": "stream",
     "text": [
      "Enter a string:This is Basic Python Programming Assignment\n",
      "Enter the value of i:15\n",
      "Resultant String: This is Basic Pthon Programming Assignment\n"
     ]
    }
   ],
   "source": [
    "#taking input from user\n",
    "str = input(\"Enter a string:\")\n",
    "i = int(input(\"Enter the value of i:\"))\n",
    "\n",
    "print(\"Resultant String:\",str[:i] + str[i+1:])"
   ]
  },
  {
   "cell_type": "markdown",
   "id": "c8d5dcd6",
   "metadata": {},
   "source": [
    "### 3. Write a Python program to split and join a string?"
   ]
  },
  {
   "cell_type": "code",
   "execution_count": 3,
   "id": "7d6465ab",
   "metadata": {},
   "outputs": [
    {
     "name": "stdout",
     "output_type": "stream",
     "text": [
      "Enter a string:This is Basic Python Programming Assignment\n",
      "String after splitting: ['This', 'is', 'Basic', 'Python', 'Programming', 'Assignment']\n",
      "String after joining: This-is-Basic-Python-Programming-Assignment\n"
     ]
    }
   ],
   "source": [
    "#Function Definition\n",
    "def test(str):\n",
    "    str = str.split(\" \")\n",
    "    print(\"String after splitting:\",str)\n",
    "    str = \"-\".join(str)\n",
    "    print(\"String after joining:\",str)\n",
    "\n",
    "#taking input from user\n",
    "str = input(\"Enter a string:\")\n",
    "\n",
    "#Function call\n",
    "test(str)"
   ]
  },
  {
   "cell_type": "markdown",
   "id": "d7bdf481",
   "metadata": {},
   "source": [
    "### 4. Write a Python to check if a given string is binary string or not?"
   ]
  },
  {
   "cell_type": "code",
   "execution_count": 4,
   "id": "02784425",
   "metadata": {},
   "outputs": [
    {
     "name": "stdout",
     "output_type": "stream",
     "text": [
      "Enter the String: 1010020010110\n",
      "It is not a Binary String\n"
     ]
    }
   ],
   "source": [
    "#Function Definition\n",
    "def Check_Binary(str):\n",
    "    count = 1\n",
    "    \n",
    "    for char in str:\n",
    "        if char in '10':\n",
    "            continue\n",
    "        else:\n",
    "            count = 0\n",
    "            break\n",
    "    \n",
    "    if count != 0:\n",
    "        print(\"It is a Binary String\")\n",
    "    else:\n",
    "        print(\"It is not a Binary String\")\n",
    "\n",
    "#Taking input from user\n",
    "string=input(\"Enter the String: \")\n",
    "\n",
    "#Function call\n",
    "Check_Binary(string)"
   ]
  },
  {
   "cell_type": "markdown",
   "id": "a628962f",
   "metadata": {},
   "source": [
    "### 5. Write a Python program to find uncommon words from two Strings?"
   ]
  },
  {
   "cell_type": "code",
   "execution_count": 5,
   "id": "0abfdb27",
   "metadata": {},
   "outputs": [
    {
     "name": "stdout",
     "output_type": "stream",
     "text": [
      "Enter the First String: This is a Basic Python Programming Assignment\n",
      "Enter the Second String: This is Python\n",
      "The uncommon words are: {'Assignment', 'Programming', 'Basic', 'a'}\n"
     ]
    }
   ],
   "source": [
    "#Defining a function to find uncommon words from two strings\n",
    "def Uncommon(str1,str2):\n",
    "    \n",
    "    str1 = str1.split()\n",
    "    str2 = str2.split()\n",
    "    \n",
    "    x = set(str1).symmetric_difference(set(str2))\n",
    "    return x\n",
    "\n",
    "\n",
    "#Taking input from user\n",
    "string1 = input(\"Enter the First String: \")\n",
    "string2 = input(\"Enter the Second String: \")\n",
    "\n",
    "#Function call\n",
    "print(\"The uncommon words are:\",Uncommon(string1,string2))"
   ]
  },
  {
   "cell_type": "markdown",
   "id": "fdf02dba",
   "metadata": {},
   "source": [
    "### 6. Write a Python to find all duplicate characters in string?"
   ]
  },
  {
   "cell_type": "code",
   "execution_count": 12,
   "id": "ed4c75c2",
   "metadata": {},
   "outputs": [
    {
     "name": "stdout",
     "output_type": "stream",
     "text": [
      "Enter the String: This is Basic Python Programming Assignment\n",
      "The duplicate characters are: ['h', 'i', 's', ' ', 'a', 'P', 't', 'o', 'n', 'r', 'g', 'm']\n"
     ]
    }
   ],
   "source": [
    "#Defining a function to find all duplicate characters from a string\n",
    "def Dup(str):\n",
    "    duplicate = []\n",
    "    for i in range(len(str)):\n",
    "        if str[i] in str[i+1:]:\n",
    "            if str[i] not in duplicate:\n",
    "                duplicate.append(str[i])\n",
    "\n",
    "    return duplicate\n",
    "\n",
    "#Taking input from user\n",
    "string = input(\"Enter the String: \")\n",
    "\n",
    "#Function call\n",
    "print(\"The duplicate characters are:\",Dup(string))\n"
   ]
  },
  {
   "cell_type": "markdown",
   "id": "0898b1d4",
   "metadata": {},
   "source": [
    "### 7. Write a Python Program to check if a string contains any special character?"
   ]
  },
  {
   "cell_type": "code",
   "execution_count": 7,
   "id": "bd466571",
   "metadata": {},
   "outputs": [
    {
     "name": "stdout",
     "output_type": "stream",
     "text": [
      "Enter the String: ineuron@1234\n",
      "Yes, Given string contain special character\n"
     ]
    }
   ],
   "source": [
    "def Check_Special(str):\n",
    "    spcial = '[@_!#$%^&*()<>?/\\|}{~:]'\n",
    "    count = 1\n",
    "    for k in str:\n",
    "        if k in spcial:\n",
    "            count = 0\n",
    "            break\n",
    "        else:\n",
    "            continue\n",
    "    \n",
    "    if(count == 0):\n",
    "        print(\"Yes, Given string contain special character\")\n",
    "    else:\n",
    "        print(\"No, Given string does not contain special character\")   \n",
    "\n",
    "#Taking input from user\n",
    "string = input(\"Enter the String: \")\n",
    "\n",
    "#Function call\n",
    "Check_Special(string)      "
   ]
  },
  {
   "cell_type": "code",
   "execution_count": null,
   "id": "91ee1e28",
   "metadata": {},
   "outputs": [],
   "source": []
  }
 ],
 "metadata": {
  "kernelspec": {
   "display_name": "Python 3 (ipykernel)",
   "language": "python",
   "name": "python3"
  },
  "language_info": {
   "codemirror_mode": {
    "name": "ipython",
    "version": 3
   },
   "file_extension": ".py",
   "mimetype": "text/x-python",
   "name": "python",
   "nbconvert_exporter": "python",
   "pygments_lexer": "ipython3",
   "version": "3.9.7"
  }
 },
 "nbformat": 4,
 "nbformat_minor": 5
}
