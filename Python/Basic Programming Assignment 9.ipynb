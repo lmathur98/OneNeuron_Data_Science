{
 "cells": [
  {
   "cell_type": "markdown",
   "id": "6d93c52e",
   "metadata": {},
   "source": [
    "# Programming Assignment 9"
   ]
  },
  {
   "cell_type": "markdown",
   "id": "d47a3ead",
   "metadata": {},
   "source": [
    "### 1. Write a Python program to check if the given number is a Disarium Number?"
   ]
  },
  {
   "cell_type": "code",
   "execution_count": 1,
   "id": "53995b2c",
   "metadata": {},
   "outputs": [
    {
     "name": "stdout",
     "output_type": "stream",
     "text": [
      "Enter a number:175\n",
      "175 is a Disarium Number\n"
     ]
    }
   ],
   "source": [
    "#Importing math module\n",
    "import math\n",
    "\n",
    "#Taking input from user\n",
    "num = int(input(\"Enter a number:\"))\n",
    "val = num\n",
    "rem = 0\n",
    "sum = 0\n",
    "\n",
    "#Checking number is Disarium number or not\n",
    "length = len(str(num))\n",
    "while (val > 0) :\n",
    "    rem = val % 10\n",
    "    sum = (int) (sum + math.pow(rem, length))\n",
    "    length = length - 1\n",
    "    val //= 10\n",
    "    \n",
    "if sum == num:\n",
    "    print(\"{} is a Disarium Number\".format(num))\n",
    "else:\n",
    "    print(\"{} is not a Disarium Number\".format(num))"
   ]
  },
  {
   "cell_type": "markdown",
   "id": "dc72dcbc",
   "metadata": {},
   "source": [
    "### 2. Write a Python program to print all disarium numbers between 1 to 100?"
   ]
  },
  {
   "cell_type": "code",
   "execution_count": 2,
   "id": "08b342f3",
   "metadata": {},
   "outputs": [
    {
     "name": "stdout",
     "output_type": "stream",
     "text": [
      "All Disarium numbers between 1 and 100 are:\n",
      "1\n",
      "2\n",
      "3\n",
      "4\n",
      "5\n",
      "6\n",
      "7\n",
      "8\n",
      "9\n",
      "89\n"
     ]
    }
   ],
   "source": [
    "import math\n",
    "\n",
    "#Defining a function to check whether a number is Disarium number or not\n",
    "def Check_Disarium(num):\n",
    "    val = num\n",
    "    rem = 0\n",
    "    sum = 0\n",
    "\n",
    "    length = len(str(num))\n",
    "    while (val > 0) :\n",
    "        rem = val % 10\n",
    "        sum = (int) (sum + math.pow(rem, length))\n",
    "        length = length - 1\n",
    "        val //= 10\n",
    "    \n",
    "    if sum == num:\n",
    "        print(num)\n",
    "    else:\n",
    "        pass \n",
    "    \n",
    "# To find all Disarium numbers between 1 and 100\n",
    "print(\"All Disarium numbers between 1 and 100 are:\")\n",
    "\n",
    "for i in range(1,101):\n",
    "    Check_Disarium(i)"
   ]
  },
  {
   "cell_type": "markdown",
   "id": "ef56d1b3",
   "metadata": {},
   "source": [
    "### 3. Write a Python program to check if the given number is Happy Number?"
   ]
  },
  {
   "cell_type": "code",
   "execution_count": 3,
   "id": "7bcc4c64",
   "metadata": {},
   "outputs": [
    {
     "name": "stdout",
     "output_type": "stream",
     "text": [
      "Enter a number: 13\n",
      "13 is a Happy Number\n"
     ]
    }
   ],
   "source": [
    "def Check_Happy(num):   \n",
    "    digit = 0\n",
    "    sum = 0    \n",
    "    while(num > 0):    \n",
    "        digit = num % 10 \n",
    "        sum += (digit * digit)    \n",
    "        num //= 10   \n",
    "    return sum    \n",
    "        \n",
    "val = int(input(\"Enter a number: \"))    \n",
    "result = val    \n",
    "     \n",
    "while(result != 1 and result != 4):    \n",
    "    result = Check_Happy(result)   \n",
    "     \n",
    "if(result == 1):    \n",
    "    print(\"{} is a Happy Number\".format(val))   \n",
    "else:    \n",
    "    print(\"{} is not a Happy Number\".format(val))\n"
   ]
  },
  {
   "cell_type": "markdown",
   "id": "4c390272",
   "metadata": {},
   "source": [
    "### 4. Write a Python program to print all happy numbers between 1 and 100?"
   ]
  },
  {
   "cell_type": "code",
   "execution_count": 4,
   "id": "a23f11e4",
   "metadata": {},
   "outputs": [
    {
     "name": "stdout",
     "output_type": "stream",
     "text": [
      "All Happy numbers between 1 and 100 are:\n",
      "1\n",
      "7\n",
      "10\n",
      "13\n",
      "19\n",
      "23\n",
      "28\n",
      "31\n",
      "32\n",
      "44\n",
      "49\n",
      "68\n",
      "70\n",
      "79\n",
      "82\n",
      "86\n",
      "91\n",
      "94\n",
      "97\n",
      "100\n"
     ]
    }
   ],
   "source": [
    "#Defining a function to check whether a number is Pronic number or not\n",
    "\n",
    "def Check_Happy(num):   \n",
    "    digit = 0\n",
    "    sum = 0    \n",
    "    while(num > 0):    \n",
    "        digit = num % 10 \n",
    "        sum += (digit * digit)    \n",
    "        num //= 10   \n",
    "    return sum \n",
    "# To find all Happy numbers between 1 and 100\n",
    "print(\"All Happy numbers between 1 and 100 are:\")\n",
    "\n",
    "for i in range(1,101):\n",
    "    result = i    \n",
    "    while(result != 1 and result != 4):    \n",
    "        result = Check_Happy(result)\n",
    "    if(result == 1):    \n",
    "        print(i)   \n",
    "    else:    \n",
    "        pass"
   ]
  },
  {
   "cell_type": "markdown",
   "id": "7409b613",
   "metadata": {},
   "source": [
    "### 5. Write a Python program to determine whether the given number is a Harshad Number?"
   ]
  },
  {
   "cell_type": "code",
   "execution_count": 5,
   "id": "e525190f",
   "metadata": {},
   "outputs": [
    {
     "name": "stdout",
     "output_type": "stream",
     "text": [
      "Enter a number:18\n",
      "18 is a Harshad Number\n"
     ]
    }
   ],
   "source": [
    "#Taking input from user\n",
    "num = int(input(\"Enter a number:\"))\n",
    "\n",
    "sum = 0\n",
    "val = num\n",
    "\n",
    "while val != 0 :\n",
    "    sum += val % 10\n",
    "    val //= 10\n",
    "\n",
    "if num%sum == 0:\n",
    "    print(\"{} is a Harshad Number\".format(num))\n",
    "else:\n",
    "    print(\"{} is not a Harshad Number\".format(num))"
   ]
  },
  {
   "cell_type": "markdown",
   "id": "581bdd8c",
   "metadata": {},
   "source": [
    "### 6. Write a Python program to print all pronic numbers between 1 and 100?"
   ]
  },
  {
   "cell_type": "code",
   "execution_count": 6,
   "id": "29162596",
   "metadata": {},
   "outputs": [
    {
     "name": "stdout",
     "output_type": "stream",
     "text": [
      "All Pronic numbers between 1 and 100 are:\n",
      "2\n",
      "6\n",
      "12\n",
      "20\n",
      "30\n",
      "42\n",
      "56\n",
      "72\n",
      "90\n"
     ]
    }
   ],
   "source": [
    "#Defining a function to check whether a number is Pronic number or not\n",
    "def Check_Pronic(num):\n",
    "    for i in range(1,num):\n",
    "        if num == i * (i+1):\n",
    "            print(num)\n",
    "        else:\n",
    "            pass\n",
    "    \n",
    "# To find all Pronic numbers between 1 and 100\n",
    "print(\"All Pronic numbers between 1 and 100 are:\")\n",
    "\n",
    "for i in range(1,101):\n",
    "    Check_Pronic(i)"
   ]
  },
  {
   "cell_type": "code",
   "execution_count": null,
   "id": "4c526fd6",
   "metadata": {},
   "outputs": [],
   "source": []
  }
 ],
 "metadata": {
  "kernelspec": {
   "display_name": "Python 3 (ipykernel)",
   "language": "python",
   "name": "python3"
  },
  "language_info": {
   "codemirror_mode": {
    "name": "ipython",
    "version": 3
   },
   "file_extension": ".py",
   "mimetype": "text/x-python",
   "name": "python",
   "nbconvert_exporter": "python",
   "pygments_lexer": "ipython3",
   "version": "3.9.7"
  }
 },
 "nbformat": 4,
 "nbformat_minor": 5
}
