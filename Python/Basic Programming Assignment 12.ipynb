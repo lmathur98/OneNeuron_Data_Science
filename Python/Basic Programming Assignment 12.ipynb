{
 "cells": [
  {
   "cell_type": "markdown",
   "id": "7adb7565",
   "metadata": {},
   "source": [
    "# Programming Assignment 12"
   ]
  },
  {
   "cell_type": "markdown",
   "id": "f765fcb0",
   "metadata": {},
   "source": [
    "### 1. Write a Python program to Extract Unique values dictionary values?"
   ]
  },
  {
   "cell_type": "code",
   "execution_count": 1,
   "id": "2b1a0cde",
   "metadata": {},
   "outputs": [
    {
     "name": "stdout",
     "output_type": "stream",
     "text": [
      "The unique values of the given dictionay values are: [12, 21, 1, 2]\n"
     ]
    }
   ],
   "source": [
    "dict = {'x':12,'r':21,'c':12,'d':1,'s':2,'e':2}\n",
    "\n",
    "list = []\n",
    "#Finding unique values\n",
    "for i in dict.values(): \n",
    "    if i in list: \n",
    "        continue\n",
    "    else:\n",
    "        list.append(i)\n",
    "\n",
    "print(\"The unique values of the given dictionay values are:\",list)\n"
   ]
  },
  {
   "cell_type": "markdown",
   "id": "c0e9b60f",
   "metadata": {},
   "source": [
    "### 2. Write a Python program to find the sum of all items in a dictionary?"
   ]
  },
  {
   "cell_type": "code",
   "execution_count": 2,
   "id": "48e7666d",
   "metadata": {},
   "outputs": [
    {
     "name": "stdout",
     "output_type": "stream",
     "text": [
      "The sum of all items of a dictionay is: 61\n"
     ]
    }
   ],
   "source": [
    "dict = {'x':10,'c':20,'cz':31}\n",
    "\n",
    "sum=0\n",
    "for i in dict.values():\n",
    "    sum = sum + i\n",
    "\n",
    "print(\"The sum of all items of a dictionay is:\",sum)"
   ]
  },
  {
   "cell_type": "markdown",
   "id": "c8d5dcd6",
   "metadata": {},
   "source": [
    "### 3. Write a Python program to Merging two Dictionaries?"
   ]
  },
  {
   "cell_type": "code",
   "execution_count": 3,
   "id": "7d6465ab",
   "metadata": {},
   "outputs": [
    {
     "name": "stdout",
     "output_type": "stream",
     "text": [
      "The merged dictonay is: {'x': 10, 'r': 21, 'c': 20, 'd': 1, 's': 2, 'e': 2, 'cz': 31}\n"
     ]
    }
   ],
   "source": [
    "dict1 = {'x':12,'r':21,'c':12,'d':1,'s':2,'e':2}\n",
    "dict2 = {'x':10,'c':20,'cz':31}\n",
    "\n",
    "dict3 = dict1 | dict2\n",
    "\n",
    "print(\"The merged dictonay is:\",dict3)"
   ]
  },
  {
   "cell_type": "markdown",
   "id": "d7bdf481",
   "metadata": {},
   "source": [
    "### 4. Write a Python program to convert key-values list to flat dictionary?"
   ]
  },
  {
   "cell_type": "code",
   "execution_count": 1,
   "id": "02784425",
   "metadata": {
    "scrolled": true
   },
   "outputs": [
    {
     "name": "stdout",
     "output_type": "stream",
     "text": [
      "The dictionary is : \n",
      "{'month_num': [1, 2, 3, 4, 5, 6], 'name_of_month': ['Jan', 'Feb', 'March', 'Apr', 'May', 'June']}\n",
      "The flattened dictionary is: \n",
      "{1: 'Jan', 2: 'Feb', 3: 'March', 4: 'Apr', 5: 'May', 6: 'June'}\n"
     ]
    }
   ],
   "source": [
    "from itertools import product\n",
    "\n",
    "my_dict = {'month_num' : [1, 2, 3, 4, 5, 6], 'name_of_month' : ['Jan', 'Feb', 'March', 'Apr', 'May', 'June']}\n",
    "\n",
    "print(\"The dictionary is : \")\n",
    "print(my_dict)\n",
    "\n",
    "my_result = dict(zip(my_dict['month_num'], my_dict['name_of_month']))\n",
    "\n",
    "print(\"The flattened dictionary is: \")\n",
    "print(my_result)"
   ]
  },
  {
   "cell_type": "markdown",
   "id": "a628962f",
   "metadata": {},
   "source": [
    "### 5. Write a Python program to insertion at the beginning in OrderedDict?"
   ]
  },
  {
   "cell_type": "code",
   "execution_count": 8,
   "id": "0abfdb27",
   "metadata": {},
   "outputs": [
    {
     "name": "stdout",
     "output_type": "stream",
     "text": [
      "Original Ordered Dictionary is: OrderedDict([('X', 2), ('Y', 21), ('Z', 13), ('P', 12)])\n",
      "Required Ordered Dictionary is: OrderedDict([('Q', 11), ('X', 2), ('Y', 21), ('Z', 13), ('P', 12)])\n"
     ]
    }
   ],
   "source": [
    "from collections import OrderedDict as OD\n",
    "\n",
    "d = OD({'X':2 , 'Y':21 , 'Z':13, 'P':12})\n",
    "print(\"Original Ordered Dictionary is:\",d)\n",
    "\n",
    "#Insertion at beginning\n",
    "d.update({'Q':11})\n",
    "d.move_to_end('Q', last = False)\n",
    "\n",
    "print(\"Required Ordered Dictionary is:\",d)\n"
   ]
  },
  {
   "cell_type": "markdown",
   "id": "fdf02dba",
   "metadata": {},
   "source": [
    "### 6. Write a Python program to check order of character in string using OrderedDict()?"
   ]
  },
  {
   "cell_type": "code",
   "execution_count": 2,
   "id": "ed4c75c2",
   "metadata": {},
   "outputs": [
    {
     "name": "stdout",
     "output_type": "stream",
     "text": [
      "OrderedDict([('T', None), ('h', None), ('i', None), ('s', None), (' ', None), ('P', None), ('y', None), ('t', None), ('o', None), ('n', None)])\n"
     ]
    },
    {
     "data": {
      "text/plain": [
       "'YES, The order of character is present in given string'"
      ]
     },
     "execution_count": 2,
     "metadata": {},
     "output_type": "execute_result"
    }
   ],
   "source": [
    "from collections import OrderedDict as OD \n",
    "  \n",
    "#Defining the function to check order\n",
    "def Check_Char(str, char): \n",
    "    D = OD.fromkeys(str) \n",
    "    print(D)\n",
    "    size = 0\n",
    "    for key,value in D.items(): \n",
    "        if (key == char[size]): \n",
    "            size = size + 1\n",
    "        if (size == (len(char))): \n",
    "            return \"YES, The order of character is present in given string\"\n",
    "    return \"NO, The order of character is not present in given string\"\n",
    "\n",
    "\n",
    "#Function Call\n",
    "Check_Char(\"This is Python\",\"ho\")\n",
    "\n"
   ]
  },
  {
   "cell_type": "markdown",
   "id": "0898b1d4",
   "metadata": {},
   "source": [
    "### 7. Write a Python program to sort Python Dictionaries by Key or Value?"
   ]
  },
  {
   "cell_type": "code",
   "execution_count": 3,
   "id": "91ee1e28",
   "metadata": {},
   "outputs": [
    {
     "name": "stdout",
     "output_type": "stream",
     "text": [
      "Sorted Dictionary accoeding to Key: [('c', 4), ('d', 1), ('e', 2), ('r', 21), ('s', 2), ('x', 12)]\n",
      "Sorted Dictionary accoeding to Items: [('d', 1), ('s', 2), ('e', 2), ('c', 4), ('x', 12), ('r', 21)]\n"
     ]
    }
   ],
   "source": [
    "dict1 = {'x':12,'r':21,'c':4,'d':1,'s':2,'e':2}\n",
    "\n",
    "#Based on Key\n",
    "print(\"Sorted Dictionary accoeding to Key:\",sorted(dict1.items()))\n",
    "\n",
    "#Based on Values (Items)\n",
    "print(\"Sorted Dictionary accoeding to Items:\",sorted(dict1.items(), key=lambda item: item[1]))\n"
   ]
  },
  {
   "cell_type": "code",
   "execution_count": null,
   "id": "0fe2132b",
   "metadata": {},
   "outputs": [],
   "source": []
  }
 ],
 "metadata": {
  "kernelspec": {
   "display_name": "Python 3 (ipykernel)",
   "language": "python",
   "name": "python3"
  },
  "language_info": {
   "codemirror_mode": {
    "name": "ipython",
    "version": 3
   },
   "file_extension": ".py",
   "mimetype": "text/x-python",
   "name": "python",
   "nbconvert_exporter": "python",
   "pygments_lexer": "ipython3",
   "version": "3.9.7"
  }
 },
 "nbformat": 4,
 "nbformat_minor": 5
}
