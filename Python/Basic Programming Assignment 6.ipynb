{
 "cells": [
  {
   "cell_type": "markdown",
   "id": "eeb853be",
   "metadata": {},
   "source": [
    "# Programming Assignment 6"
   ]
  },
  {
   "cell_type": "markdown",
   "id": "d9b78517",
   "metadata": {},
   "source": [
    "### 1. Write a Python Program to Display Fibonacci Sequence Using Recursion?"
   ]
  },
  {
   "cell_type": "code",
   "execution_count": 1,
   "id": "65e7ad72",
   "metadata": {},
   "outputs": [
    {
     "name": "stdout",
     "output_type": "stream",
     "text": [
      "Enter number of terms: 7\n",
      "Fibonacci sequence:\n",
      "0\n",
      "1\n",
      "1\n",
      "2\n",
      "3\n",
      "5\n",
      "8\n"
     ]
    }
   ],
   "source": [
    "#Defining a recursion function for fibonacci sequence\n",
    "def Fibo(num):\n",
    "   if num <= 1:\n",
    "       return num\n",
    "   else:\n",
    "       return (Fibo(num - 1) + Fibo(num - 2))\n",
    "\n",
    "#Taking number of terms of fibonacci series from user\n",
    "term = int(input(\"Enter number of terms: \"))\n",
    "\n",
    "if term <= 0:\n",
    "   print(\"Please reconsider the number of terms(only Positive numbers are allowed)\")\n",
    "else:\n",
    "   print(\"Fibonacci sequence:\")\n",
    "   for i in range(term):\n",
    "       print(Fibo(i))"
   ]
  },
  {
   "cell_type": "markdown",
   "id": "c790da2b",
   "metadata": {},
   "source": [
    "### 2. Write a Python Program to Find Factorial of Number Using Recursion?"
   ]
  },
  {
   "cell_type": "code",
   "execution_count": 2,
   "id": "b99ad385",
   "metadata": {},
   "outputs": [
    {
     "name": "stdout",
     "output_type": "stream",
     "text": [
      "Enter a number:6\n"
     ]
    },
    {
     "data": {
      "text/plain": [
       "720"
      ]
     },
     "execution_count": 2,
     "metadata": {},
     "output_type": "execute_result"
    }
   ],
   "source": [
    "#Defining a recursive function to find factorial\n",
    "def fact(num):\n",
    "    if num <=1:\n",
    "        return 1\n",
    "    else: \n",
    "        return (num * fact(num-1))\n",
    "\n",
    "#Taking input from user\n",
    "num = int(input(\"Enter a number:\"))\n",
    "\n",
    "#Calling the fact function\n",
    "fact(num)"
   ]
  },
  {
   "cell_type": "markdown",
   "id": "714eebdf",
   "metadata": {},
   "source": [
    "### 3. Write a Python Program to calculate your Body Mass Index?"
   ]
  },
  {
   "cell_type": "code",
   "execution_count": 3,
   "id": "910bb7c4",
   "metadata": {},
   "outputs": [
    {
     "name": "stdout",
     "output_type": "stream",
     "text": [
      "Enter your Height(in Centimeters):180\n",
      "Enter your Weight(in Kilograms):74\n",
      "Your BMI is 22.84 and you are consider healthy\n"
     ]
    }
   ],
   "source": [
    "#Taking Height and Weight as input from user\n",
    "height = float(input(\"Enter your Height(in Centimeters):\"))\n",
    "weight = float(input(\"Enter your Weight(in Kilograms):\"))\n",
    "\n",
    "#Calculating BMI\n",
    "BMI = (weight / ((height / 100) ** 2))\n",
    "\n",
    "#Generating report on the basis of BMI\n",
    "if BMI < 18.5:\n",
    "    print(\"Your BMI is {:.2f} and you are consider underweight\".format(BMI))\n",
    "\n",
    "elif BMI >= 18.5 and BMI <= 24.9:\n",
    "    print(\"Your BMI is {:.2f} and you are consider healthy\".format(BMI))\n",
    "\n",
    "elif BMI >= 25 and BMI < 30:\n",
    "    print(\"Your BMI is {:.2f} and you are consider overweight\".format(BMI))\n",
    "\n",
    "else:\n",
    "    print(\"Your BMI is {:.2f} and you are consider obese\".format(BMI))\n",
    "\n",
    "\n"
   ]
  },
  {
   "cell_type": "markdown",
   "id": "99536de2",
   "metadata": {},
   "source": [
    "### 4. Write a Python Program to calculate the natural logarithm of any number?"
   ]
  },
  {
   "cell_type": "code",
   "execution_count": 4,
   "id": "b2d474e7",
   "metadata": {},
   "outputs": [
    {
     "name": "stdout",
     "output_type": "stream",
     "text": [
      "Enter a number:4.53\n",
      "The natural log value of 4.53 is 1.5107219394949427\n"
     ]
    }
   ],
   "source": [
    "#Importing math module to calculate natural log of any number\n",
    "import math\n",
    "\n",
    "#Taking input from user\n",
    "val = float(input(\"Enter a number:\"))\n",
    "\n",
    "#Diaplaying the log value of given number\n",
    "print(\"The natural log value of {} is {}\".format(val,math.log(val)))\n"
   ]
  },
  {
   "cell_type": "markdown",
   "id": "830a828e",
   "metadata": {},
   "source": [
    "### 5. Write a Python Program for cube sum of first n natural numbers?"
   ]
  },
  {
   "cell_type": "code",
   "execution_count": 5,
   "id": "24c44036",
   "metadata": {},
   "outputs": [
    {
     "name": "stdout",
     "output_type": "stream",
     "text": [
      "Enter the number:4\n",
      "The cube sum of first 4 natural number is 100\n"
     ]
    }
   ],
   "source": [
    "#Taking input from user\n",
    "num = int(input(\"Enter the number:\"))\n",
    "\n",
    "#Computing sum\n",
    "sum = ((num ** 2) * (num + 1) ** 2) / 4\n",
    "\n",
    "#Displaying cube sum\n",
    "print(\"The cube sum of first {} natural number is {}\".format(num,int(sum)))\n",
    "\n"
   ]
  }
 ],
 "metadata": {
  "kernelspec": {
   "display_name": "Python 3 (ipykernel)",
   "language": "python",
   "name": "python3"
  },
  "language_info": {
   "codemirror_mode": {
    "name": "ipython",
    "version": 3
   },
   "file_extension": ".py",
   "mimetype": "text/x-python",
   "name": "python",
   "nbconvert_exporter": "python",
   "pygments_lexer": "ipython3",
   "version": "3.9.7"
  }
 },
 "nbformat": 4,
 "nbformat_minor": 5
}
